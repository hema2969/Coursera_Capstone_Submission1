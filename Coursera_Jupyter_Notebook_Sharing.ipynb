{
    "nbformat_minor": 1, 
    "cells": [
        {
            "source": "# \"My Jupyter Notebook on IBM Data Science Experience\"", 
            "cell_type": "markdown", 
            "metadata": {
                "collapsed": true
            }
        }, 
        {
            "source": "#<h1 style = \"text-align: center\";>\"My Jupyter Notebook on IBM Data Science Experience\"</h1> -- use this for centering the text", 
            "cell_type": "code", 
            "metadata": {}, 
            "outputs": [], 
            "execution_count": null
        }, 
        {
            "source": "**Hema M**  \n Masters Graduate", 
            "cell_type": "markdown", 
            "metadata": {}
        }, 
        {
            "source": "*I am interested in Data Science because I have always wanted to automate solutions for any given problem and increase the feasibility in deployment of such analytical solutions*", 
            "cell_type": "markdown", 
            "metadata": {}
        }, 
        {
            "source": "### The code executed in the below simply performs addition and multiplication of many numbers. e.g 1+1*3.5 = 4.5", 
            "cell_type": "markdown", 
            "metadata": {}
        }, 
        {
            "source": "1+1*3.5 ", 
            "cell_type": "code", 
            "metadata": {}, 
            "outputs": [
                {
                    "output_type": "execute_result", 
                    "data": {
                        "text/plain": "4.5"
                    }, 
                    "execution_count": 7, 
                    "metadata": {}
                }
            ], 
            "execution_count": 7
        }, 
        {
            "source": "#### Bullet lists  \n- Bullet list1\n- Bullet list2\n- Bullet list3", 
            "cell_type": "markdown", 
            "metadata": {}
        }, 
        {
            "source": "#### Numbered lists  \n1. Numbered list1\n1. Numbered list2\n1. Numbered list3", 
            "cell_type": "markdown", 
            "metadata": {}
        }, 
        {
            "source": "**Horizontal rule**\n***", 
            "cell_type": "markdown", 
            "metadata": {}
        }, 
        {
            "source": "**tables**  \n\n|Markdown Types | Code for Markdown Types  |\n|:--- | ---:|\n|Horizontal rule| use three asterisks   |", 
            "cell_type": "markdown", 
            "metadata": {}
        }, 
        {
            "source": "**Code Highlighting**\n````json\n{\"name\": \"hema\",\n \"age\": 6}\n```", 
            "cell_type": "markdown", 
            "metadata": {}
        }, 
        {
            "source": "```html\n<p> html tried </p>\n```", 
            "cell_type": "markdown", 
            "metadata": {}
        }, 
        {
            "source": "**Strikethrough**  \n~~I now know that I cannot change anyone~~ Ignore the non-relevant stuff and keep smiling :) !", 
            "cell_type": "markdown", 
            "metadata": {}
        }, 
        {
            "source": "**Blocked Quotes**  \n>Hi Everyone!\n>\n>This is Hema.", 
            "cell_type": "markdown", 
            "metadata": {}
        }, 
        {
            "source": "**Hyperlinks**  \nThis has link to*[My Github Page and has information on how to render Images in Markdown!](https://github.com/hema2969/Coursera_Capstone_Submission1.git)*", 
            "cell_type": "markdown", 
            "metadata": {}
        }, 
        {
            "source": "### *Thankyou!*", 
            "cell_type": "markdown", 
            "metadata": {}
        }
    ], 
    "metadata": {
        "kernelspec": {
            "display_name": "Python 3.5", 
            "name": "python3", 
            "language": "python"
        }, 
        "language_info": {
            "mimetype": "text/x-python", 
            "nbconvert_exporter": "python", 
            "version": "3.5.5", 
            "name": "python", 
            "file_extension": ".py", 
            "pygments_lexer": "ipython3", 
            "codemirror_mode": {
                "version": 3, 
                "name": "ipython"
            }
        }
    }, 
    "nbformat": 4
}